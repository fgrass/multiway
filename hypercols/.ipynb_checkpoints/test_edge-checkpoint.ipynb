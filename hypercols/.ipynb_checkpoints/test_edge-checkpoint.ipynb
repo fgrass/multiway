{
 "cells": [
  {
   "cell_type": "code",
   "execution_count": 6,
   "metadata": {},
   "outputs": [],
   "source": [
    "import glob\n",
    "import numpy as np\n",
    "import cv2\n",
    "import random\n",
    "%matplotlib inline\n",
    "import matplotlib # 注意这个也要import一次\n",
    "import matplotlib.pyplot as plt\n",
    "\n",
    "import scipy.io"
   ]
  },
  {
   "cell_type": "code",
   "execution_count": 7,
   "metadata": {},
   "outputs": [],
   "source": [
    "PATH_LIST = glob.glob('../dataset/Planes/*')"
   ]
  },
  {
   "cell_type": "code",
   "execution_count": 8,
   "metadata": {},
   "outputs": [],
   "source": [
    "sampeNum = 10 #采样30*30=900个点\n",
    "points = np.zeros((sampeNum,sampeNum,2))"
   ]
  },
  {
   "cell_type": "code",
   "execution_count": 9,
   "metadata": {},
   "outputs": [],
   "source": [
    "def sample_edge_points(image, sampeNum, f):\n",
    "    canny = cv2.Canny(image,30,150)\n",
    "    \n",
    "    scale = 1 / sampeNum\n",
    "    xLen = int(scale * canny.shape[0])\n",
    "    yLen = int(scale * canny.shape[1])\n",
    "    for r in range(0,sampeNum):\n",
    "        for c in range(0,sampeNum):\n",
    "            xMin = int(c*scale*canny.shape[0])\n",
    "            yMin = int(r*scale*canny.shape[1])\n",
    "            hit = False\n",
    "            for i in range(0, xLen):\n",
    "                for j in range(0, yLen):\n",
    "                    if(canny[xMin + i][yMin + j]==255):\n",
    "                        points[r][c]=[xMin + i,yMin + j]\n",
    "                        hit = True\n",
    "                        break\n",
    "                if hit:\n",
    "                    break\n",
    "            if not hit:\n",
    "                points[r][c]=[xMin,yMin]\n",
    "    \n",
    "    pts_coord = points.reshape(-1,2)\n",
    "    pts_coord = np.transpose(pts_coord)\n",
    "    for c in range(0, pts_coord.shape[1]):\n",
    "        pts_coord[0][c] = pts_coord[0][c] / canny.shape[0]\n",
    "        pts_coord[1][c] = pts_coord[1][c] / canny.shape[1]\n",
    "    scipy.io.savemat(f[0:-3] + 'mat',\n",
    "                         {'pts_coord': pts_coord\n",
    "                          })"
   ]
  },
  {
   "cell_type": "code",
   "execution_count": 10,
   "metadata": {},
   "outputs": [],
   "source": [
    "for pname in PATH_LIST:\n",
    "    fnames = glob.glob(pname+'/*.bmp')\n",
    "    for f in fnames:\n",
    "        image = cv2.imread(f)\n",
    "        image = cv2.cvtColor(image,cv2.COLOR_BGR2GRAY)#将图像转化为灰度图像\n",
    "        sample_edge_points(image, sampeNum, f)\n",
    "    "
   ]
  },
  {
   "cell_type": "markdown",
   "metadata": {},
   "source": [
    "## vision debug"
   ]
  },
  {
   "cell_type": "code",
   "execution_count": null,
   "metadata": {},
   "outputs": [],
   "source": []
  }
 ],
 "metadata": {
  "kernelspec": {
   "display_name": "Python 3",
   "language": "python",
   "name": "python3"
  },
  "language_info": {
   "codemirror_mode": {
    "name": "ipython",
    "version": 3
   },
   "file_extension": ".py",
   "mimetype": "text/x-python",
   "name": "python",
   "nbconvert_exporter": "python",
   "pygments_lexer": "ipython3",
   "version": "3.6.4"
  }
 },
 "nbformat": 4,
 "nbformat_minor": 2
}
